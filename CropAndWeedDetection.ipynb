{
  "nbformat": 4,
  "nbformat_minor": 0,
  "metadata": {
    "colab": {
      "name": "CropAndWeedDetection.ipynb",
      "provenance": [],
      "collapsed_sections": []
    },
    "kernelspec": {
      "name": "python3",
      "display_name": "Python 3"
    },
    "language_info": {
      "name": "python"
    }
  },
  "cells": [
    {
      "cell_type": "code",
      "execution_count": null,
      "metadata": {
        "id": "Z5gJcYr9IJTw"
      },
      "outputs": [],
      "source": [
        "import os \n",
        "import torch\n",
        "import cv2\n",
        "import matplotlib.pyplot as plt\n",
        "import glob\n",
        "from torch.utils.data import DataLoader"
      ]
    },
    {
      "cell_type": "markdown",
      "source": [
        "Put bbox info in list of lists\n",
        "make a label class id list \n",
        "make them tensor\n",
        "https://pytorch.org/docs/stable/data.html\n",
        "\n",
        "# Record the meeting\n",
        "\n",
        "# Record the meeting\n",
        "\n",
        "\n",
        "# Record the meeting\n",
        "\n",
        "\n",
        "# Record the meeting\n",
        "\n",
        "# Record the meeting"
      ],
      "metadata": {
        "id": "7AvNitruPjLj"
      }
    },
    {
      "cell_type": "code",
      "source": [
        "from google.colab import drive\n",
        "drive.mount(\"/content/drive\")"
      ],
      "metadata": {
        "colab": {
          "base_uri": "https://localhost:8080/"
        },
        "id": "hRVw6wZiJM2V",
        "outputId": "f5b593b4-bc99-416c-972a-5aefe15058d6"
      },
      "execution_count": null,
      "outputs": [
        {
          "output_type": "stream",
          "name": "stdout",
          "text": [
            "Drive already mounted at /content/drive; to attempt to forcibly remount, call drive.mount(\"/content/drive\", force_remount=True).\n"
          ]
        }
      ]
    },
    {
      "cell_type": "code",
      "source": [
        "import zipfile\n",
        "with zipfile.ZipFile(\"/content/drive/MyDrive/PSHS_Projects/crop_and_weed.zip\",\"r\") as zip_ref:\n",
        "    zip_ref.extractall()"
      ],
      "metadata": {
        "id": "9HDaN8RsKYiu"
      },
      "execution_count": null,
      "outputs": []
    },
    {
      "cell_type": "markdown",
      "source": [
        "# Structure the data so that it can fed to the neural network"
      ],
      "metadata": {
        "id": "OR6sU721KpRn"
      }
    },
    {
      "cell_type": "markdown",
      "source": [
        "# How to do we extract bboxes from files"
      ],
      "metadata": {
        "id": "zeuAH_zqzn62"
      }
    },
    {
      "cell_type": "code",
      "source": [
        "images = sorted(glob.glob(\"/content/agri_data/data/*.jpeg\"))\n",
        "text = sorted(glob.glob(\"/content/agri_data/data/*.txt\"))\n",
        "classes = ['crop', 'weed'] # Crop is labeled 0 \n",
        "\n",
        "def yolo2voc(yolo_bbox): \n",
        "\n",
        "  pascal_voc_bbox = [0, 0, 0, 0]\n",
        "  pascal_voc_bbox[0] = (yolo_bbox[0] - yolo_bbox[2]/2) * 512\n",
        "  pascal_voc_bbox[1] = (yolo_bbox[1] - yolo_bbox[3]/2) *512\n",
        "  pascal_voc_bbox[2] = (yolo_bbox[0] + yolo_bbox[2]/2) *512\n",
        "  pascal_voc_bbox[3] = (yolo_bbox[1] + yolo_bbox[3]/2) * 512\n",
        "\n",
        "  return pascal_voc_bbox\n",
        "\n",
        "\n",
        "class LoadAgriData(): \n",
        "\n",
        "  def __init__(self, full_images, full_text): \n",
        "    self.full_images = full_images\n",
        "    self.full_text = full_text\n",
        "    \n",
        "  def __getitem__(self, x): \n",
        "    image_file = self.full_images[x] \n",
        "    text_file = self.full_text[x]\n",
        "    image_id = x \n",
        "\n",
        "    img = cv2.imread(image_file)\n",
        "    print(img.shape)\n",
        "    img = cv2.cvtColor(img, cv2.COLOR_BGR2RGB)\n",
        "    boxes = []\n",
        "    labels = []\n",
        "\n",
        "    # Extract numbers from text file \n",
        "    with open(text_file) as f:\n",
        "      lines = f.readlines()\n",
        "      for bbox in lines: \n",
        "        lines_split = bbox.split()\n",
        "        lines_split = [float(value) for value in lines_split]\n",
        "        yolo_voc = lines_split[1:]\n",
        "        label = lines_split[0]\n",
        "        pascal_voc_bboxes = yolo2voc(yolo_voc)\n",
        "        boxes.append(pascal_voc_bboxes)\n",
        "        labels.append(label)\n",
        "    \n",
        "\n",
        "    target = {}\n",
        "    target[\"boxes\"] = boxes\n",
        "    target[\"labels\"] = labels\n",
        "    target[\"image_id\"] = image_id\n",
        "\n",
        "    return img, target\n",
        "\n",
        "  def __len__(self): \n",
        "    return len(self.full_images)\n",
        "\n",
        "\n",
        "\n",
        "\n",
        "  # How do you get one at once\n",
        "\n",
        "batch_size = 12 # or 8 is the Goldilocks or perfect batch size\n",
        "agri_data = LoadAgriData(images, text)\n",
        "agri_dataloader = DataLoader(agri_data, batch_size = batch_size, shuffle = True)\n",
        "\n",
        "agri_iterator = iter(agri_dataloader)\n",
        "data = next(agri_iterator)"
      ],
      "metadata": {
        "id": "fCA25fSI1ZMR",
        "colab": {
          "base_uri": "https://localhost:8080/"
        },
        "outputId": "7bb10ab0-e011-4cdc-cc02-1cf4e2317eff"
      },
      "execution_count": null,
      "outputs": [
        {
          "output_type": "stream",
          "name": "stdout",
          "text": [
            "(512, 512, 3)\n",
            "(512, 512, 3)\n",
            "(512, 512, 3)\n",
            "(512, 512, 3)\n",
            "(512, 512, 3)\n",
            "(512, 512, 3)\n",
            "(512, 512, 3)\n",
            "(512, 512, 3)\n",
            "(512, 512, 3)\n",
            "(512, 512, 3)\n",
            "(512, 512, 3)\n",
            "(512, 512, 3)\n"
          ]
        }
      ]
    },
    {
      "cell_type": "code",
      "source": [
        "data[1]"
      ],
      "metadata": {
        "colab": {
          "base_uri": "https://localhost:8080/"
        },
        "id": "kKXmec0tNCx9",
        "outputId": "c5115b14-6d8d-4e29-f18a-cfd5da6fa5fc"
      },
      "execution_count": null,
      "outputs": [
        {
          "output_type": "execute_result",
          "data": {
            "text/plain": [
              "{'boxes': [[tensor([  0.9999, 213.9999, 146.0001,  48.9999,  26.9998,   0.9997,  36.0000,\n",
              "            25.9999, 132.0003,  61.9999,  61.0002,  32.0000], dtype=torch.float64),\n",
              "   tensor([ 16.9999, 201.9999, 213.0002, 155.0001,  79.0001,  52.9999, 104.0000,\n",
              "            64.0003, 164.9999,   9.0002, 139.9997,  40.9999], dtype=torch.float64),\n",
              "   tensor([511.0001, 324.9999, 431.0003, 475.9997, 428.9997, 509.9999, 499.0001,\n",
              "           386.9998, 408.0000, 475.0001, 408.0000, 400.0000], dtype=torch.float64),\n",
              "   tensor([502.0001, 313.9999, 414.0001, 403.0001, 464.9999, 430.9998, 397.0002,\n",
              "           410.0001, 398.9998, 481.0002, 440.0000, 382.0001], dtype=torch.float64)]],\n",
              " 'image_id': tensor([  46,  768,  983,   27, 1070, 1245,  860,  611,  222, 1097,  406,   63]),\n",
              " 'labels': [tensor([0., 0., 1., 0., 0., 1., 1., 1., 1., 0., 1., 0.], dtype=torch.float64)]}"
            ]
          },
          "metadata": {},
          "execution_count": 66
        }
      ]
    },
    {
      "cell_type": "code",
      "source": [
        "def generator(a):\n",
        "  for num in a: \n",
        "    yield num + 10\n",
        "\n",
        "a = [1, 2, 3, 4, 5]\n",
        "our_generator = generator(a)\n"
      ],
      "metadata": {
        "id": "3mbZQJiIL4iG"
      },
      "execution_count": null,
      "outputs": []
    },
    {
      "cell_type": "code",
      "source": [
        "our_generator"
      ],
      "metadata": {
        "colab": {
          "base_uri": "https://localhost:8080/"
        },
        "id": "fOLXXwA7MVu4",
        "outputId": "1193902b-ba87-4c75-923b-1b6efa5a9d76"
      },
      "execution_count": null,
      "outputs": [
        {
          "output_type": "execute_result",
          "data": {
            "text/plain": [
              "<generator object generator at 0x7f9861463cd0>"
            ]
          },
          "metadata": {},
          "execution_count": 32
        }
      ]
    },
    {
      "cell_type": "code",
      "source": [
        "iter_generator = iter(our_generator)\n"
      ],
      "metadata": {
        "id": "4alzD3AiMO2r"
      },
      "execution_count": null,
      "outputs": []
    },
    {
      "cell_type": "code",
      "source": [
        "next(iter_generator)"
      ],
      "metadata": {
        "colab": {
          "base_uri": "https://localhost:8080/",
          "height": 171
        },
        "id": "vzHaUvGVMbYl",
        "outputId": "d705f0d9-fb23-4fdb-d304-f7171364789f"
      },
      "execution_count": null,
      "outputs": [
        {
          "output_type": "error",
          "ename": "StopIteration",
          "evalue": "ignored",
          "traceback": [
            "\u001b[0;31m---------------------------------------------------------------------------\u001b[0m",
            "\u001b[0;31mStopIteration\u001b[0m                             Traceback (most recent call last)",
            "\u001b[0;32m<ipython-input-40-89295588f878>\u001b[0m in \u001b[0;36m<module>\u001b[0;34m()\u001b[0m\n\u001b[0;32m----> 1\u001b[0;31m \u001b[0mnext\u001b[0m\u001b[0;34m(\u001b[0m\u001b[0miter_generator\u001b[0m\u001b[0;34m)\u001b[0m\u001b[0;34m\u001b[0m\u001b[0;34m\u001b[0m\u001b[0m\n\u001b[0m",
            "\u001b[0;31mStopIteration\u001b[0m: "
          ]
        }
      ]
    },
    {
      "cell_type": "code",
      "source": [
        "agri_data = LoadAgriData(images, text)\n",
        "\n",
        "len(agri_data)"
      ],
      "metadata": {
        "colab": {
          "base_uri": "https://localhost:8080/"
        },
        "id": "vo0CjdMdHXsM",
        "outputId": "fa0cf904-a7c5-464d-bc5c-3e0cfee7887d"
      },
      "execution_count": null,
      "outputs": [
        {
          "output_type": "execute_result",
          "data": {
            "text/plain": [
              "1300"
            ]
          },
          "metadata": {},
          "execution_count": 25
        }
      ]
    },
    {
      "cell_type": "markdown",
      "source": [
        "# Delete Hard coded thing"
      ],
      "metadata": {
        "id": "K4f2Vh7uDmYA"
      }
    },
    {
      "cell_type": "code",
      "source": [
        "building = BluePrint()\n",
        "\n",
        "building[8]"
      ],
      "metadata": {
        "id": "b7XxOt-K2mOI"
      },
      "execution_count": null,
      "outputs": []
    },
    {
      "cell_type": "code",
      "source": [
        "entire_data = [1, 2, 3, 4, 5, 6, 7, 8]\n",
        "\n",
        "entire_data[0]"
      ],
      "metadata": {
        "id": "aAznW3DH2mQh",
        "colab": {
          "base_uri": "https://localhost:8080/"
        },
        "outputId": "82562d78-c5ae-4e59-9e2e-e6988c664084"
      },
      "execution_count": null,
      "outputs": [
        {
          "output_type": "execute_result",
          "data": {
            "text/plain": [
              "1"
            ]
          },
          "metadata": {},
          "execution_count": 63
        }
      ]
    },
    {
      "cell_type": "code",
      "source": [
        ""
      ],
      "metadata": {
        "id": "4gRWIU1G2mTA"
      },
      "execution_count": null,
      "outputs": []
    },
    {
      "cell_type": "code",
      "source": [
        "class BluePrint(): \n",
        "  def __init__(self, size, color, durability, location = \"Phillipines\"): \n",
        "    self.color = color\n",
        "    self.size = size\n",
        "    self.location = location\n",
        "  \n",
        "  def rebuild(self): \n",
        "    print(\"I am going to rebuild\")\n",
        "\n",
        "  def shutdown(self, time): \n",
        "    print(\"Shutdown for time: {}\".format(time))\n",
        "\n",
        "  def __getitem__(self, x): \n",
        "    print(x)\n"
      ],
      "metadata": {
        "id": "JcFkwu4D1q3f"
      },
      "execution_count": null,
      "outputs": []
    },
    {
      "cell_type": "code",
      "source": [
        "building = BluePrint(size = 10, color = \"RED\", durability = \"hard\")"
      ],
      "metadata": {
        "id": "tZWTFSkL12w8"
      },
      "execution_count": null,
      "outputs": []
    },
    {
      "cell_type": "code",
      "source": [
        "building[]"
      ],
      "metadata": {
        "colab": {
          "base_uri": "https://localhost:8080/"
        },
        "id": "eRiWc6XWFXSX",
        "outputId": "df37da9c-fcfc-4998-ed14-36a6a6c726cf"
      },
      "execution_count": null,
      "outputs": [
        {
          "output_type": "stream",
          "name": "stdout",
          "text": [
            "10\n"
          ]
        }
      ]
    },
    {
      "cell_type": "code",
      "source": [
        "building.location"
      ],
      "metadata": {
        "colab": {
          "base_uri": "https://localhost:8080/",
          "height": 35
        },
        "id": "oj-1Wrft1_WL",
        "outputId": "2d4248f1-88db-42ae-e67b-0a5664f8e05c"
      },
      "execution_count": null,
      "outputs": [
        {
          "output_type": "execute_result",
          "data": {
            "text/plain": [
              "'Phillipines'"
            ],
            "application/vnd.google.colaboratory.intrinsic+json": {
              "type": "string"
            }
          },
          "metadata": {},
          "execution_count": 45
        }
      ]
    }
  ]
}