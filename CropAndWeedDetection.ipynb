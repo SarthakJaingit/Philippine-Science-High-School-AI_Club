{
  "nbformat": 4,
  "nbformat_minor": 0,
  "metadata": {
    "colab": {
      "name": "CropAndWeedDetection.ipynb",
      "provenance": [],
      "collapsed_sections": []
    },
    "kernelspec": {
      "name": "python3",
      "display_name": "Python 3"
    },
    "language_info": {
      "name": "python"
    },
    "accelerator": "GPU",
    "gpuClass": "standard"
  },
  "cells": [
    {
      "cell_type": "code",
      "source": [
        "pip install -U albumentations"
      ],
      "metadata": {
        "id": "RXCSqFekX1eL",
        "colab": {
          "base_uri": "https://localhost:8080/"
        },
        "outputId": "0111ae9a-aab6-4c71-c03e-da9066b91d83"
      },
      "execution_count": null,
      "outputs": [
        {
          "output_type": "stream",
          "name": "stdout",
          "text": [
            "Looking in indexes: https://pypi.org/simple, https://us-python.pkg.dev/colab-wheels/public/simple/\n",
            "Requirement already satisfied: albumentations in /usr/local/lib/python3.7/dist-packages (0.1.12)\n",
            "Collecting albumentations\n",
            "  Downloading albumentations-1.2.0-py3-none-any.whl (113 kB)\n",
            "\u001b[K     |████████████████████████████████| 113 kB 4.9 MB/s \n",
            "\u001b[?25hCollecting qudida>=0.0.4\n",
            "  Downloading qudida-0.0.4-py3-none-any.whl (3.5 kB)\n",
            "Requirement already satisfied: scikit-image<0.19,>=0.16.1 in /usr/local/lib/python3.7/dist-packages (from albumentations) (0.18.3)\n",
            "Requirement already satisfied: PyYAML in /usr/local/lib/python3.7/dist-packages (from albumentations) (3.13)\n",
            "Requirement already satisfied: numpy>=1.11.1 in /usr/local/lib/python3.7/dist-packages (from albumentations) (1.21.6)\n",
            "Requirement already satisfied: scipy in /usr/local/lib/python3.7/dist-packages (from albumentations) (1.4.1)\n",
            "Collecting opencv-python-headless>=4.1.1\n",
            "  Downloading opencv_python_headless-4.6.0.66-cp36-abi3-manylinux_2_17_x86_64.manylinux2014_x86_64.whl (48.3 MB)\n",
            "\u001b[K     |████████████████████████████████| 48.3 MB 131 kB/s \n",
            "\u001b[?25hRequirement already satisfied: scikit-learn>=0.19.1 in /usr/local/lib/python3.7/dist-packages (from qudida>=0.0.4->albumentations) (1.0.2)\n",
            "Requirement already satisfied: typing-extensions in /usr/local/lib/python3.7/dist-packages (from qudida>=0.0.4->albumentations) (4.1.1)\n",
            "Requirement already satisfied: PyWavelets>=1.1.1 in /usr/local/lib/python3.7/dist-packages (from scikit-image<0.19,>=0.16.1->albumentations) (1.3.0)\n",
            "Requirement already satisfied: imageio>=2.3.0 in /usr/local/lib/python3.7/dist-packages (from scikit-image<0.19,>=0.16.1->albumentations) (2.4.1)\n",
            "Requirement already satisfied: matplotlib!=3.0.0,>=2.0.0 in /usr/local/lib/python3.7/dist-packages (from scikit-image<0.19,>=0.16.1->albumentations) (3.2.2)\n",
            "Requirement already satisfied: tifffile>=2019.7.26 in /usr/local/lib/python3.7/dist-packages (from scikit-image<0.19,>=0.16.1->albumentations) (2021.11.2)\n",
            "Requirement already satisfied: pillow!=7.1.0,!=7.1.1,>=4.3.0 in /usr/local/lib/python3.7/dist-packages (from scikit-image<0.19,>=0.16.1->albumentations) (7.1.2)\n",
            "Requirement already satisfied: networkx>=2.0 in /usr/local/lib/python3.7/dist-packages (from scikit-image<0.19,>=0.16.1->albumentations) (2.6.3)\n",
            "Requirement already satisfied: kiwisolver>=1.0.1 in /usr/local/lib/python3.7/dist-packages (from matplotlib!=3.0.0,>=2.0.0->scikit-image<0.19,>=0.16.1->albumentations) (1.4.3)\n",
            "Requirement already satisfied: python-dateutil>=2.1 in /usr/local/lib/python3.7/dist-packages (from matplotlib!=3.0.0,>=2.0.0->scikit-image<0.19,>=0.16.1->albumentations) (2.8.2)\n",
            "Requirement already satisfied: cycler>=0.10 in /usr/local/lib/python3.7/dist-packages (from matplotlib!=3.0.0,>=2.0.0->scikit-image<0.19,>=0.16.1->albumentations) (0.11.0)\n",
            "Requirement already satisfied: pyparsing!=2.0.4,!=2.1.2,!=2.1.6,>=2.0.1 in /usr/local/lib/python3.7/dist-packages (from matplotlib!=3.0.0,>=2.0.0->scikit-image<0.19,>=0.16.1->albumentations) (3.0.9)\n",
            "Requirement already satisfied: six>=1.5 in /usr/local/lib/python3.7/dist-packages (from python-dateutil>=2.1->matplotlib!=3.0.0,>=2.0.0->scikit-image<0.19,>=0.16.1->albumentations) (1.15.0)\n",
            "Requirement already satisfied: joblib>=0.11 in /usr/local/lib/python3.7/dist-packages (from scikit-learn>=0.19.1->qudida>=0.0.4->albumentations) (1.1.0)\n",
            "Requirement already satisfied: threadpoolctl>=2.0.0 in /usr/local/lib/python3.7/dist-packages (from scikit-learn>=0.19.1->qudida>=0.0.4->albumentations) (3.1.0)\n",
            "Installing collected packages: opencv-python-headless, qudida, albumentations\n",
            "  Attempting uninstall: albumentations\n",
            "    Found existing installation: albumentations 0.1.12\n",
            "    Uninstalling albumentations-0.1.12:\n",
            "      Successfully uninstalled albumentations-0.1.12\n",
            "Successfully installed albumentations-1.2.0 opencv-python-headless-4.6.0.66 qudida-0.0.4\n"
          ]
        }
      ]
    },
    {
      "cell_type": "code",
      "source": [
        "!pip uninstall opencv-python-headless==4.5.5.62\n",
        "!pip install opencv-python-headless==4.5.2.52"
      ],
      "metadata": {
        "id": "mexfFRdmRcsJ",
        "colab": {
          "base_uri": "https://localhost:8080/"
        },
        "outputId": "bba1e17c-fbcf-41fd-cf6a-1bb9f63f44c1"
      },
      "execution_count": null,
      "outputs": [
        {
          "output_type": "stream",
          "name": "stdout",
          "text": [
            "Found existing installation: opencv-python-headless 4.6.0.66\n",
            "Uninstalling opencv-python-headless-4.6.0.66:\n",
            "  Would remove:\n",
            "    /usr/local/lib/python3.7/dist-packages/cv2/*\n",
            "    /usr/local/lib/python3.7/dist-packages/opencv_python_headless-4.6.0.66.dist-info/*\n",
            "    /usr/local/lib/python3.7/dist-packages/opencv_python_headless.libs/libavcodec-5896f664.so.58.134.100\n",
            "    /usr/local/lib/python3.7/dist-packages/opencv_python_headless.libs/libavformat-8ef5c7db.so.58.76.100\n",
            "    /usr/local/lib/python3.7/dist-packages/opencv_python_headless.libs/libavutil-9c768859.so.56.70.100\n",
            "    /usr/local/lib/python3.7/dist-packages/opencv_python_headless.libs/libbz2-a273e504.so.1.0.6\n",
            "    /usr/local/lib/python3.7/dist-packages/opencv_python_headless.libs/libcrypto-d21001fc.so.1.1\n",
            "    /usr/local/lib/python3.7/dist-packages/opencv_python_headless.libs/libgfortran-91cc3cb1.so.3.0.0\n",
            "    /usr/local/lib/python3.7/dist-packages/opencv_python_headless.libs/libopenblas-r0-f650aae0.3.3.so\n",
            "    /usr/local/lib/python3.7/dist-packages/opencv_python_headless.libs/libpng16-57e5e0a0.so.16.37.0\n",
            "    /usr/local/lib/python3.7/dist-packages/opencv_python_headless.libs/libquadmath-96973f99.so.0.0.0\n",
            "    /usr/local/lib/python3.7/dist-packages/opencv_python_headless.libs/libssl-c8c53640.so.1.1\n",
            "    /usr/local/lib/python3.7/dist-packages/opencv_python_headless.libs/libswresample-99364a1c.so.3.9.100\n",
            "    /usr/local/lib/python3.7/dist-packages/opencv_python_headless.libs/libswscale-e6451464.so.5.9.100\n",
            "    /usr/local/lib/python3.7/dist-packages/opencv_python_headless.libs/libvpx-f22f1483.so.7.0.0\n",
            "  Would not remove (might be manually added):\n",
            "    /usr/local/lib/python3.7/dist-packages/cv2/.libs/libQtCore-bbdab771.so.4.8.7\n",
            "    /usr/local/lib/python3.7/dist-packages/cv2/.libs/libQtGui-903938cd.so.4.8.7\n",
            "    /usr/local/lib/python3.7/dist-packages/cv2/.libs/libQtTest-1183da5d.so.4.8.7\n",
            "    /usr/local/lib/python3.7/dist-packages/cv2/.libs/libavcodec-3cdd3bd4.so.58.62.100\n",
            "    /usr/local/lib/python3.7/dist-packages/cv2/.libs/libavformat-69a63b50.so.58.35.100\n",
            "    /usr/local/lib/python3.7/dist-packages/cv2/.libs/libavutil-8e8979a8.so.56.36.100\n",
            "    /usr/local/lib/python3.7/dist-packages/cv2/.libs/libbz2-7225278b.so.1.0.3\n",
            "    /usr/local/lib/python3.7/dist-packages/cv2/.libs/libcrypto-a25ff511.so.1.1\n",
            "    /usr/local/lib/python3.7/dist-packages/cv2/.libs/libssl-fdf0b66c.so.1.1\n",
            "    /usr/local/lib/python3.7/dist-packages/cv2/.libs/libswresample-c6b3bbb9.so.3.6.100\n",
            "    /usr/local/lib/python3.7/dist-packages/cv2/.libs/libswscale-2d19f7d1.so.5.6.100\n",
            "    /usr/local/lib/python3.7/dist-packages/cv2/.libs/libvpx-c887ea55.so.6.1.0\n",
            "    /usr/local/lib/python3.7/dist-packages/cv2/.libs/libz-a147dcb0.so.1.2.3\n",
            "    /usr/local/lib/python3.7/dist-packages/cv2/cv2.cpython-37m-x86_64-linux-gnu.so\n",
            "Proceed (y/n)? y\n",
            "  Successfully uninstalled opencv-python-headless-4.6.0.66\n",
            "Looking in indexes: https://pypi.org/simple, https://us-python.pkg.dev/colab-wheels/public/simple/\n",
            "Collecting opencv-python-headless==4.5.2.52\n",
            "  Downloading opencv_python_headless-4.5.2.52-cp37-cp37m-manylinux2014_x86_64.whl (38.2 MB)\n",
            "\u001b[K     |████████████████████████████████| 38.2 MB 1.2 MB/s \n",
            "\u001b[?25hRequirement already satisfied: numpy>=1.14.5 in /usr/local/lib/python3.7/dist-packages (from opencv-python-headless==4.5.2.52) (1.21.6)\n",
            "Installing collected packages: opencv-python-headless\n",
            "Successfully installed opencv-python-headless-4.5.2.52\n"
          ]
        }
      ]
    },
    {
      "cell_type": "code",
      "execution_count": null,
      "metadata": {
        "id": "Z5gJcYr9IJTw"
      },
      "outputs": [],
      "source": [
        "import os \n",
        "import torch\n",
        "import cv2\n",
        "import matplotlib.pyplot as plt\n",
        "import glob\n",
        "from torch.utils.data import DataLoader\n",
        "import numpy as np\n",
        "import albumentations as A\n",
        "from albumentations.pytorch import ToTensorV2\n",
        "import torchvision\n",
        "import torch.nn as nn\n",
        "from tqdm import tqdm \n",
        "from torchvision.ops.boxes import box_iou"
      ]
    },
    {
      "cell_type": "markdown",
      "source": [
        "Put bbox info in list of lists\n",
        "make a label class id list \n",
        "make them tensor\n",
        "https://pytorch.org/docs/stable/data.html\n",
        "\n",
        "# Record the meeting\n",
        "\n",
        "# Record the meeting\n",
        "\n",
        "\n",
        "# Record the meeting\n",
        "\n",
        "\n",
        "# Record the meeting\n",
        "\n",
        "# Record the meeting"
      ],
      "metadata": {
        "id": "7AvNitruPjLj"
      }
    },
    {
      "cell_type": "code",
      "source": [
        "from google.colab import drive\n",
        "drive.mount(\"/content/drive\", force_remount = True)"
      ],
      "metadata": {
        "id": "hRVw6wZiJM2V",
        "colab": {
          "base_uri": "https://localhost:8080/"
        },
        "outputId": "40f04bf2-038b-4009-cd84-6b2bb23768a3"
      },
      "execution_count": null,
      "outputs": [
        {
          "output_type": "stream",
          "name": "stdout",
          "text": [
            "Mounted at /content/drive\n"
          ]
        }
      ]
    },
    {
      "cell_type": "code",
      "source": [
        "import zipfile\n",
        "with zipfile.ZipFile(\"/content/drive/MyDrive/PSHS_Projects/crop_and_weed.zip\",\"r\") as zip_ref:\n",
        "    zip_ref.extractall()"
      ],
      "metadata": {
        "id": "9HDaN8RsKYiu"
      },
      "execution_count": null,
      "outputs": []
    },
    {
      "cell_type": "markdown",
      "source": [
        "# Structure the data so that it can fed to the neural network"
      ],
      "metadata": {
        "id": "OR6sU721KpRn"
      }
    },
    {
      "cell_type": "markdown",
      "source": [
        "# How to do we extract bboxes from files"
      ],
      "metadata": {
        "id": "zeuAH_zqzn62"
      }
    },
    {
      "cell_type": "code",
      "source": [
        "images = sorted(glob.glob(\"/content/agri_data/data/*.jpeg\"))[:200]\n",
        "text = sorted(glob.glob(\"/content/agri_data/data/*.txt\"))[:200]\n",
        "\n",
        "train_images, train_text = images[:int(len(images) * 0.8)], text[:int(len(text) * 0.8)]\n",
        "test_images, test_text = images[int(len(images) * 0.8):], text[int(len(text) * 0.8):]\n",
        "\n",
        "assert len(train_images) + len(test_images) == len(images)\n",
        "for img_path in train_images: \n",
        "  assert img_path not in test_images\n",
        "\n",
        "assert len(train_text) + len(test_text) == len(text)\n",
        "for txt_path in train_text: \n",
        "  assert txt_path not in test_text \n",
        "\n",
        "\n",
        "classes = ['crop', 'weed'] # Crop is labeled 0 \n",
        "\n",
        "def yolo2voc(yolo_bbox): \n",
        "\n",
        "  pascal_voc_bbox = [0, 0, 0, 0]\n",
        "  pascal_voc_bbox[0] = (yolo_bbox[0] - yolo_bbox[2]/2) * 512\n",
        "  pascal_voc_bbox[1] = (yolo_bbox[1] - yolo_bbox[3]/2) *512\n",
        "  pascal_voc_bbox[2] = (yolo_bbox[0] + yolo_bbox[2]/2) *512\n",
        "  pascal_voc_bbox[3] = (yolo_bbox[1] + yolo_bbox[3]/2) * 512\n",
        "\n",
        "  return pascal_voc_bbox\n",
        "\n",
        "\n",
        "class LoadAgriData(): \n",
        "\n",
        "  def __init__(self, full_images, full_text, transforms): \n",
        "    self.full_images = full_images\n",
        "    self.full_text = full_text\n",
        "    self.transforms = transforms\n",
        "    \n",
        "  def __getitem__(self, x): \n",
        "    image_file = self.full_images[x] \n",
        "    text_file = self.full_text[x]\n",
        "    image_id = x \n",
        "\n",
        "    img = cv2.imread(image_file)\n",
        "    img = cv2.cvtColor(img, cv2.COLOR_BGR2RGB)\n",
        "    boxes = []\n",
        "    labels = []\n",
        "\n",
        "    # Extract numbers from text file \n",
        "    with open(text_file) as f:\n",
        "      lines = f.readlines()\n",
        "      for bbox in lines: \n",
        "        lines_split = bbox.split()\n",
        "        lines_split = [float(value) for value in lines_split]\n",
        "        yolo_voc = lines_split[1:]\n",
        "        label = lines_split[0]\n",
        "        pascal_voc_bboxes = yolo2voc(yolo_voc)\n",
        "        boxes.append(pascal_voc_bboxes)\n",
        "        labels.append(label)\n",
        "    \n",
        "    target = {}\n",
        "    target[\"boxes\"] = boxes\n",
        "    target[\"labels\"] = torch.tensor(labels, dtype = torch.int64)\n",
        "    target[\"image_id\"] = torch.tensor(image_id, dtype = torch.int64)\n",
        "\n",
        "    \n",
        "    # This is where we have to use the output of get_tranforms to alter the image\n",
        "    #Query about transforms for labels of images\n",
        "    if self.transforms: \n",
        "      sample = {\n",
        "                'image': img,\n",
        "                'bboxes': target['boxes'],\n",
        "                'labels': target['labels']\n",
        "            }\n",
        "\n",
        "      sample = self.transforms(**sample)\n",
        "      img = sample['image']\n",
        "      target['boxes'] = torch.stack(tuple(map(torch.tensor, zip(*sample['bboxes'])))).permute(1, 0)\n",
        "\n",
        "    return img, target\n",
        "\n",
        "  def __len__(self): \n",
        "    return len(self.full_images)\n",
        "\n",
        "\n",
        "def get_transforms(mode): \n",
        "  if mode == \"train\": \n",
        "\n",
        "    # A.OneOf makes the transform mutually exclusive.\n",
        "    transforms = A.Compose([\n",
        "                            A.OneOf([ \n",
        "                              A.RandomBrightnessContrast(p = 0.35),\n",
        "                              A.ColorJitter(p = 0.35)\n",
        "                            ]),\n",
        "                            A.VerticalFlip(p = 0.35), \n",
        "                            A.HorizontalFlip(p = 0.35),  \n",
        "                            ToTensorV2()], bbox_params={'format': 'pascal_voc', 'label_fields': ['labels']})\n",
        "    return transforms\n",
        "\n",
        "  elif mode == \"test\": \n",
        "    \n",
        "    transforms = A.Compose([\n",
        "                            ToTensorV2()], bbox_params={'format': 'pascal_voc', 'label_fields': ['labels']})\n",
        "\n",
        "    return transforms\n",
        "\n",
        "  else: \n",
        "    raise ValueError(\"Please type either train or test\")\n",
        "\n",
        "\n",
        "# Did not implement function\n",
        "def collate_fn(batch):\n",
        "  return tuple([list(a) for a in zip(*batch)])\n",
        "\n",
        "  # How do you get one at once\n",
        "\n",
        "batch_size = 4\n",
        "\n",
        "training_agri_data = LoadAgriData(train_images, train_text, get_transforms(\"train\"))\n",
        "testing_agri_data = LoadAgriData(test_images, test_text, get_transforms(\"test\"))\n",
        "\n",
        "training_agriDataLoader = DataLoader(training_agri_data, batch_size= batch_size, shuffle=True, collate_fn= collate_fn)\n",
        "testing_agriDataLoader = DataLoader(testing_agri_data, batch_size = batch_size, shuffle = False, collate_fn = collate_fn)"
      ],
      "metadata": {
        "id": "fCA25fSI1ZMR"
      },
      "execution_count": null,
      "outputs": []
    },
    {
      "cell_type": "code",
      "source": [
        "agridata_iterator = iter(training_agriDataLoader)\n",
        "img, labels = agridata_iterator.next()\n",
        "\n",
        "def draw_boxes(boxes, labels, image):\n",
        "    # read the image with OpenCV\n",
        "    image = image.permute(1, 2, 0).numpy()\n",
        "    for i, box in enumerate(boxes):\n",
        "        # (R, G, B)\n",
        "        color = (255, 0, 0)\n",
        "        cv2.rectangle(image, (int(box[0]), int(box[1])), \\\n",
        "        (int(box[2]), int(box[3])), color, 2)\n",
        "        \n",
        "        # cv2.putText(image, classes[labels[i - 1]], (int(box[0]), int(box[1])-5),\n",
        "        #             cv2.FONT_HERSHEY_SIMPLEX, 0.8, color, 2, \n",
        "        #             lineType=cv2.LINE_AA)\n",
        "    return image\n",
        "\n",
        "fig = plt.figure(figsize=(25, 4))\n",
        "for idx in np.arange(8):\n",
        "    ax = fig.add_subplot(2, 8/2, idx+1, xticks=[], yticks=[])\n",
        "    drawing_img = draw_boxes(labels[idx][\"boxes\"], labels[idx][\"labels\"], img[idx])\n",
        "    plt.imshow(drawing_img)"
      ],
      "metadata": {
        "colab": {
          "base_uri": "https://localhost:8080/",
          "height": 461
        },
        "id": "_UeHkFmwRI6I",
        "outputId": "2ecc6057-1846-4b56-8f82-5cb0fd184054"
      },
      "execution_count": null,
      "outputs": [
        {
          "output_type": "error",
          "ename": "IndexError",
          "evalue": "ignored",
          "traceback": [
            "\u001b[0;31m---------------------------------------------------------------------------\u001b[0m",
            "\u001b[0;31mIndexError\u001b[0m                                Traceback (most recent call last)",
            "\u001b[0;32m<ipython-input-7-f938afdc1135>\u001b[0m in \u001b[0;36m<module>\u001b[0;34m()\u001b[0m\n\u001b[1;32m     18\u001b[0m \u001b[0;32mfor\u001b[0m \u001b[0midx\u001b[0m \u001b[0;32min\u001b[0m \u001b[0mnp\u001b[0m\u001b[0;34m.\u001b[0m\u001b[0marange\u001b[0m\u001b[0;34m(\u001b[0m\u001b[0;36m8\u001b[0m\u001b[0;34m)\u001b[0m\u001b[0;34m:\u001b[0m\u001b[0;34m\u001b[0m\u001b[0;34m\u001b[0m\u001b[0m\n\u001b[1;32m     19\u001b[0m     \u001b[0max\u001b[0m \u001b[0;34m=\u001b[0m \u001b[0mfig\u001b[0m\u001b[0;34m.\u001b[0m\u001b[0madd_subplot\u001b[0m\u001b[0;34m(\u001b[0m\u001b[0;36m2\u001b[0m\u001b[0;34m,\u001b[0m \u001b[0;36m8\u001b[0m\u001b[0;34m/\u001b[0m\u001b[0;36m2\u001b[0m\u001b[0;34m,\u001b[0m \u001b[0midx\u001b[0m\u001b[0;34m+\u001b[0m\u001b[0;36m1\u001b[0m\u001b[0;34m,\u001b[0m \u001b[0mxticks\u001b[0m\u001b[0;34m=\u001b[0m\u001b[0;34m[\u001b[0m\u001b[0;34m]\u001b[0m\u001b[0;34m,\u001b[0m \u001b[0myticks\u001b[0m\u001b[0;34m=\u001b[0m\u001b[0;34m[\u001b[0m\u001b[0;34m]\u001b[0m\u001b[0;34m)\u001b[0m\u001b[0;34m\u001b[0m\u001b[0;34m\u001b[0m\u001b[0m\n\u001b[0;32m---> 20\u001b[0;31m     \u001b[0mdrawing_img\u001b[0m \u001b[0;34m=\u001b[0m \u001b[0mdraw_boxes\u001b[0m\u001b[0;34m(\u001b[0m\u001b[0mlabels\u001b[0m\u001b[0;34m[\u001b[0m\u001b[0midx\u001b[0m\u001b[0;34m]\u001b[0m\u001b[0;34m[\u001b[0m\u001b[0;34m\"boxes\"\u001b[0m\u001b[0;34m]\u001b[0m\u001b[0;34m,\u001b[0m \u001b[0mlabels\u001b[0m\u001b[0;34m[\u001b[0m\u001b[0midx\u001b[0m\u001b[0;34m]\u001b[0m\u001b[0;34m[\u001b[0m\u001b[0;34m\"labels\"\u001b[0m\u001b[0;34m]\u001b[0m\u001b[0;34m,\u001b[0m \u001b[0mimg\u001b[0m\u001b[0;34m[\u001b[0m\u001b[0midx\u001b[0m\u001b[0;34m]\u001b[0m\u001b[0;34m)\u001b[0m\u001b[0;34m\u001b[0m\u001b[0;34m\u001b[0m\u001b[0m\n\u001b[0m\u001b[1;32m     21\u001b[0m     \u001b[0mplt\u001b[0m\u001b[0;34m.\u001b[0m\u001b[0mimshow\u001b[0m\u001b[0;34m(\u001b[0m\u001b[0mdrawing_img\u001b[0m\u001b[0;34m)\u001b[0m\u001b[0;34m\u001b[0m\u001b[0;34m\u001b[0m\u001b[0m\n",
            "\u001b[0;31mIndexError\u001b[0m: list index out of range"
          ]
        },
        {
          "output_type": "display_data",
          "data": {
            "text/plain": [
              "<Figure size 1800x288 with 5 Axes>"
            ],
            "image/png": "[encoded data removed]"
          },
          "metadata": {}
        }
      ]
    },
    {
      "cell_type": "code",
      "source": [
        "# Initialize Model: \n",
        "model = torchvision.models.detection.fasterrcnn_resnet50_fpn(pretrained=True)"
      ],
      "metadata": {
        "id": "0gpnEp9EMdch"
      },
      "execution_count": 30,
      "outputs": []
    },
    {
      "cell_type": "code",
      "source": [
        "# How do you alter models\n",
        "\n",
        "model.roi_heads.box_predictor.cls_score = nn.Linear(model.roi_heads.box_predictor.cls_score.in_features, 2) # 2 classes: Weed and Crop\n",
        "model.roi_heads.box_predictor.bbox_pred = nn.Linear(model.roi_heads.box_predictor.bbox_pred.in_features, 2 * 4) # 2 classes: Weed and Crop * 4: "
      ],
      "metadata": {
        "id": "VcCOexpMQhfG"
      },
      "execution_count": 31,
      "outputs": []
    },
    {
      "cell_type": "code",
      "source": [
        "imgs = np.ones((8, 3, 32, 32))\n",
        "imgs = torch.from_numpy(imgs)\n",
        "model.eval()\n",
        "model(imgs.float())"
      ],
      "metadata": {
        "id": "_iLQBVVmQBSZ"
      },
      "execution_count": null,
      "outputs": []
    },
    {
      "cell_type": "code",
      "source": [
        "def load_model_from_weights(weights): \n",
        "  model = torchvision.models.detection.fasterrcnn_resnet50_fpn(pretrained=False)\n",
        "\n",
        "  model.roi_heads.box_predictor.cls_score = nn.Linear(model.roi_heads.box_predictor.cls_score.in_features, 2) # 2 classes: Weed and Crop\n",
        "  model.roi_heads.box_predictor.bbox_pred = nn.Linear(model.roi_heads.box_predictor.bbox_pred.in_features, 2 * 4) # 2 classes: Weed and Crop * 4: \n"
      ],
      "metadata": {
        "id": "Vo8ayASil8r8"
      },
      "execution_count": 19,
      "outputs": []
    },
    {
      "cell_type": "markdown",
      "source": [
        "# Way you find accuracy in object detection: \n",
        "\n",
        "Is calculating the mAP (mean Average Precision) of your model\n",
        "\n",
        "# What is a state dict\n",
        "\n",
        "A state dict is a dictionary of all the important parameters in a model"
      ],
      "metadata": {
        "id": "_2H9LaC2fqPu"
      }
    },
    {
      "cell_type": "code",
      "source": [
        "def calculate_metrics(target_box,predictions_box,scores, device):\n",
        "\n",
        "    #Get most confident boxes first and least confident last\n",
        "    predictions_box = predictions_box[scores.argsort().flip(-1)]\n",
        "    iou_mat = box_iou(target_box,predictions_box)\n",
        "    #return a one by one matrix that is form (target_box, prediction_box) or (1, 1)\n",
        "    target_boxes_count, prediction_boxes_count = iou_mat.shape\n",
        "    iou_mat = iou_mat.cpu().to(torch.double)\n",
        "    iou_mat = iou_mat.where(iou_mat> 0.5,torch.tensor(0., dtype = torch.double))\n",
        "    \n",
        "    mAP_Matrix = torch.zeros_like(iou_mat)\n",
        "    # if not matrix coordinates that relate to nothing.\n",
        "    if not iou_mat[:,0].eq(0.).all():\n",
        "      index_of_biggest_iou = iou_mat[:,0].argsort()[-1]\n",
        "      mAP_Matrix[index_of_biggest_iou,0] = 1\n",
        "\n",
        "    for pr_idx in range(1,prediction_boxes_count):\n",
        "        not_assigned = torch.logical_not(mAP_Matrix[:,:pr_idx].sum(1)).long()\n",
        "        targets = not_assigned * iou_mat[:,pr_idx]\n",
        "\n",
        "        if targets.eq(0).all():\n",
        "            continue\n",
        "\n",
        "        pivot = targets.argsort()[-1]\n",
        "        mAP_Matrix[pivot,pr_idx] = 1\n",
        "\n",
        "    # mAP calculation\n",
        "    tp = mAP_Matrix.sum()\n",
        "    fp = mAP_Matrix.sum(0).eq(0).sum()\n",
        "    fn = mAP_Matrix.sum(1).eq(0).sum()\n",
        "\n",
        "    mAP = tp / (tp+fp)\n",
        "    mAR = tp / (tp+fn)\n",
        "\n",
        "    return mAP\n",
        "\n",
        "def run_metrics_for_batch(output, targets, mAP, missed_images, device):\n",
        "  for pos_in_batch, image_pred in enumerate(output):\n",
        "    assert (len(image_pred[\"boxes\"]) == len(image_pred[\"labels\"]) == len(image_pred[\"scores\"]))\n",
        "    if len(image_pred[\"boxes\"]) != 0:\n",
        "      curr_mAP = calculate_metrics(targets[pos_in_batch][\"boxes\"], output[pos_in_batch][\"boxes\"], output[pos_in_batch][\"scores\"], device)\n",
        "      mAP += curr_mAP  \n",
        "    else:\n",
        "      missed_images += 1 \n",
        "  \n",
        "  return mAP, missed_images\n",
        "\n",
        "\n",
        "\n"
      ],
      "metadata": {
        "id": "1aSa6OdahPXU"
      },
      "execution_count": 32,
      "outputs": []
    },
    {
      "cell_type": "code",
      "source": [
        "# Train the model\n",
        "\n",
        "epochs = 10\n",
        "device = (torch.device(\"cuda\") if torch.cuda.is_available() else torch.device(\"cpu\")) # condensed if statement (if we have GPU)\n",
        "# Lower learning rate\n",
        "optimizer = torch.optim.Adam(model.parameters(), lr=0.0001)\n",
        "model.to(device)\n",
        "\n",
        "# Changed this\n",
        "folder_name = \"Saved_Weights1\"\n",
        "os.mkdir(folder_name)\n",
        "\n",
        "for epoch in range(epochs): \n",
        "\n",
        "  epoch_train_loss = 0\n",
        "  epoch_valid_loss = 0 \n",
        "  num_of_train_images = 0\n",
        "  num_of_valid_images = 0 \n",
        "  total_mAP_count = 0\n",
        "  total_missed_images = 0\n",
        "  \n",
        "  # iterate through our data loader \n",
        "  for images, labels in tqdm(training_agriDataLoader): \n",
        "\n",
        "    num_of_train_images += len(images)\n",
        "\n",
        "    model.train()\n",
        "\n",
        "    # Moves all image and target data to the GPU (Cuda)\n",
        "    images = torch.stack(images).to(device)\n",
        "    for lab in labels: \n",
        "     for k in list(lab.keys()): \n",
        "       if k == \"boxes\": \n",
        "         lab[k] = lab[k].to(device)\n",
        "       elif (k == \"labels\"):\n",
        "         lab[k] = torch.tensor(lab[k]).to(device)\n",
        "    \n",
        "    optimizer.zero_grad()\n",
        "\n",
        "    loss_dict = model(images.float(), labels) # feedforward and loss\n",
        "    train_loss = sum(list(loss_dict.values())) # one value loss\n",
        "    train_loss.backward() # backpropagation - calculates the derivatives (gradients)\n",
        "    optimizer.step() #  go down the weight vs error curve by subtracting the gradients * learning rate\n",
        "    epoch_train_loss += train_loss.item()\n",
        "  \n",
        "  \n",
        "  for images, labels in tqdm(testing_agriDataLoader): \n",
        "    # Built the validation portion of the cell\n",
        "\n",
        "    num_of_valid_images += len(images) \n",
        "\n",
        "    model.train()\n",
        "    images = torch.stack(images).to(device)\n",
        "    for lab in labels: \n",
        "     for k in list(lab.keys()): \n",
        "       if k == \"boxes\": \n",
        "         lab[k] = lab[k].to(device)\n",
        "       elif (k == \"labels\"):\n",
        "         lab[k] = torch.tensor(lab[k]).to(device)\n",
        "    \n",
        "    loss_dict = model(images.float(), labels) # feedforward and loss\n",
        "    valid_loss = sum(list(loss_dict.values())) # one value loss\n",
        "\n",
        "    epoch_valid_loss += valid_loss.item()\n",
        "\n",
        "    model.eval()\n",
        "    output = model(images.float())\n",
        "\n",
        "    # Post processing of outputs forgot about that\n",
        "\n",
        "    total_mAP_count, total_missed_images = run_metrics_for_batch(output, labels, total_mAP_count, total_missed_images, device)\n",
        "\n",
        "  torch.save(model.state_dict(), \"./{}/model{}.pth\".format(folder_name, epoch))\n",
        "\n",
        "  print(\"Epoch: {} Train Loss: {}\".format(epoch, epoch_train_loss / num_of_train_images))\n",
        "  print(\"Epoch: {} Valid Loss: {}\".format(epoch, epoch_valid_loss / num_of_valid_images))\n",
        "  print(\"Epoch: {} Valid mAP: {}\".format(epoch, total_mAP_count / num_of_valid_images))\n",
        "  print(\"Epoch: {} Total Missed Images: {}\".format(epoch, total_missed_images))"
      ],
      "metadata": {
        "colab": {
          "base_uri": "https://localhost:8080/"
        },
        "id": "EGZrW_MuONiM",
        "outputId": "70deab79-c526-40a8-fdd7-b47adbdb550b"
      },
      "execution_count": 34,
      "outputs": [
        {
          "output_type": "stream",
          "name": "stderr",
          "text": [
            "  0%|          | 0/40 [00:00<?, ?it/s]/usr/local/lib/python3.7/dist-packages/ipykernel_launcher.py:36: UserWarning: To copy construct from a tensor, it is recommended to use sourceTensor.clone().detach() or sourceTensor.clone().detach().requires_grad_(True), rather than torch.tensor(sourceTensor).\n",
            "100%|██████████| 40/40 [00:34<00:00,  1.17it/s]\n",
            "  0%|          | 0/10 [00:00<?, ?it/s]/usr/local/lib/python3.7/dist-packages/ipykernel_launcher.py:59: UserWarning: To copy construct from a tensor, it is recommended to use sourceTensor.clone().detach() or sourceTensor.clone().detach().requires_grad_(True), rather than torch.tensor(sourceTensor).\n",
            "100%|██████████| 10/10 [00:06<00:00,  1.45it/s]\n"
          ]
        },
        {
          "output_type": "stream",
          "name": "stdout",
          "text": [
            "Epoch: 0 Train Loss: 4.505283184265961\n",
            "Epoch: 0 Valid Loss: 0.29138771420098497\n",
            "Epoch: 0 Valid mAP: 0.0\n",
            "Epoch: 0 Total Missed Images: 37\n"
          ]
        },
        {
          "output_type": "stream",
          "name": "stderr",
          "text": [
            "100%|██████████| 40/40 [00:34<00:00,  1.17it/s]\n",
            "100%|██████████| 10/10 [00:06<00:00,  1.47it/s]\n"
          ]
        },
        {
          "output_type": "stream",
          "name": "stdout",
          "text": [
            "Epoch: 1 Train Loss: 0.6950591294589736\n",
            "Epoch: 1 Valid Loss: 0.07309880663837562\n",
            "Epoch: 1 Valid mAP: 0.05835732775762129\n",
            "Epoch: 1 Total Missed Images: 0\n"
          ]
        },
        {
          "output_type": "stream",
          "name": "stderr",
          "text": [
            "100%|██████████| 40/40 [00:34<00:00,  1.15it/s]\n",
            "100%|██████████| 10/10 [00:06<00:00,  1.44it/s]\n"
          ]
        },
        {
          "output_type": "stream",
          "name": "stdout",
          "text": [
            "Epoch: 2 Train Loss: 0.08392508708651629\n",
            "Epoch: 2 Valid Loss: 0.06361798307927644\n",
            "Epoch: 2 Valid mAP: 0.0721379764026823\n",
            "Epoch: 2 Total Missed Images: 0\n"
          ]
        },
        {
          "output_type": "stream",
          "name": "stderr",
          "text": [
            "100%|██████████| 40/40 [00:34<00:00,  1.15it/s]\n",
            "100%|██████████| 10/10 [00:06<00:00,  1.45it/s]\n"
          ]
        },
        {
          "output_type": "stream",
          "name": "stdout",
          "text": [
            "Epoch: 3 Train Loss: 0.056677354994337556\n",
            "Epoch: 3 Valid Loss: 0.0687046379851343\n",
            "Epoch: 3 Valid mAP: 0.03314806343255651\n",
            "Epoch: 3 Total Missed Images: 0\n"
          ]
        },
        {
          "output_type": "stream",
          "name": "stderr",
          "text": [
            "100%|██████████| 40/40 [00:34<00:00,  1.15it/s]\n",
            "100%|██████████| 10/10 [00:06<00:00,  1.45it/s]\n"
          ]
        },
        {
          "output_type": "stream",
          "name": "stdout",
          "text": [
            "Epoch: 4 Train Loss: 0.047280417343402166\n",
            "Epoch: 4 Valid Loss: 0.05509607645250394\n",
            "Epoch: 4 Valid mAP: 0.10628968253968256\n",
            "Epoch: 4 Total Missed Images: 0\n"
          ]
        },
        {
          "output_type": "stream",
          "name": "stderr",
          "text": [
            "100%|██████████| 40/40 [00:34<00:00,  1.15it/s]\n",
            "100%|██████████| 10/10 [00:06<00:00,  1.45it/s]\n"
          ]
        },
        {
          "output_type": "stream",
          "name": "stdout",
          "text": [
            "Epoch: 5 Train Loss: 0.05629601461572338\n",
            "Epoch: 5 Valid Loss: 0.053565676235408186\n",
            "Epoch: 5 Valid mAP: 0.06559758202753559\n",
            "Epoch: 5 Total Missed Images: 0\n"
          ]
        },
        {
          "output_type": "stream",
          "name": "stderr",
          "text": [
            "100%|██████████| 40/40 [00:34<00:00,  1.15it/s]\n",
            "100%|██████████| 10/10 [00:06<00:00,  1.43it/s]\n"
          ]
        },
        {
          "output_type": "stream",
          "name": "stdout",
          "text": [
            "Epoch: 6 Train Loss: 0.046357362865720377\n",
            "Epoch: 6 Valid Loss: 0.054347587630356554\n",
            "Epoch: 6 Valid mAP: 0.07497951899751434\n",
            "Epoch: 6 Total Missed Images: 0\n"
          ]
        },
        {
          "output_type": "stream",
          "name": "stderr",
          "text": [
            "100%|██████████| 40/40 [00:34<00:00,  1.15it/s]\n",
            "100%|██████████| 10/10 [00:06<00:00,  1.46it/s]\n"
          ]
        },
        {
          "output_type": "stream",
          "name": "stdout",
          "text": [
            "Epoch: 7 Train Loss: 0.04378040478004926\n",
            "Epoch: 7 Valid Loss: 0.04872205297295175\n",
            "Epoch: 7 Valid mAP: 0.09106150793650794\n",
            "Epoch: 7 Total Missed Images: 1\n"
          ]
        },
        {
          "output_type": "stream",
          "name": "stderr",
          "text": [
            "100%|██████████| 40/40 [00:34<00:00,  1.15it/s]\n",
            "100%|██████████| 10/10 [00:06<00:00,  1.45it/s]\n"
          ]
        },
        {
          "output_type": "stream",
          "name": "stdout",
          "text": [
            "Epoch: 8 Train Loss: 0.04470953864580131\n",
            "Epoch: 8 Valid Loss: 0.05313611344061048\n",
            "Epoch: 8 Valid mAP: 0.054860045433121084\n",
            "Epoch: 8 Total Missed Images: 0\n"
          ]
        },
        {
          "output_type": "stream",
          "name": "stderr",
          "text": [
            "100%|██████████| 40/40 [00:34<00:00,  1.15it/s]\n",
            "100%|██████████| 10/10 [00:06<00:00,  1.46it/s]\n"
          ]
        },
        {
          "output_type": "stream",
          "name": "stdout",
          "text": [
            "Epoch: 9 Train Loss: 0.07355773199963807\n",
            "Epoch: 9 Valid Loss: 0.06790067179923542\n",
            "Epoch: 9 Valid mAP: 0.10982233044733043\n",
            "Epoch: 9 Total Missed Images: 0\n"
          ]
        }
      ]
    },
    {
      "cell_type": "code",
      "source": [
        "a = torch.tensor(10)\n",
        "a = a.cuda()"
      ],
      "metadata": {
        "id": "4WB8mjV5hY42"
      },
      "execution_count": null,
      "outputs": []
    },
    {
      "cell_type": "code",
      "source": [
        "a = torch.tensor(0.98)\n",
        "a.item()"
      ],
      "metadata": {
        "colab": {
          "base_uri": "https://localhost:8080/"
        },
        "id": "egsJIjK0fOOj",
        "outputId": "622f0932-25f3-4f00-c342-b59d91c13b19"
      },
      "execution_count": null,
      "outputs": [
        {
          "output_type": "execute_result",
          "data": {
            "text/plain": [
              "0.9800000190734863"
            ]
          },
          "metadata": {},
          "execution_count": 31
        }
      ]
    },
    {
      "cell_type": "code",
      "source": [
        "a = {'a': 3, 'b': 5}\n",
        "a.keys()"
      ],
      "metadata": {
        "colab": {
          "base_uri": "https://localhost:8080/"
        },
        "id": "xBoNPytaIoKG",
        "outputId": "407cbf06-5d7d-44a8-de55-dd93f73cf6fa"
      },
      "execution_count": null,
      "outputs": [
        {
          "output_type": "execute_result",
          "data": {
            "text/plain": [
              "dict_keys(['a', 'b'])"
            ]
          },
          "metadata": {},
          "execution_count": 4
        }
      ]
    },
    {
      "cell_type": "code",
      "source": [
        "len(data[0])"
      ],
      "metadata": {
        "colab": {
          "base_uri": "https://localhost:8080/"
        },
        "id": "kKXmec0tNCx9",
        "outputId": "efb0cb55-7e32-4020-d11d-13c0cdf605f3"
      },
      "execution_count": null,
      "outputs": [
        {
          "output_type": "execute_result",
          "data": {
            "text/plain": [
              "8"
            ]
          },
          "metadata": {},
          "execution_count": 14
        }
      ]
    },
    {
      "cell_type": "code",
      "source": [
        "def generator(a):\n",
        "  for num in a: \n",
        "    yield num + 10\n",
        "\n",
        "a = [1, 2, 3, 4, 5]\n",
        "our_generator = generator(a)\n"
      ],
      "metadata": {
        "id": "3mbZQJiIL4iG"
      },
      "execution_count": null,
      "outputs": []
    },
    {
      "cell_type": "code",
      "source": [
        "our_generator"
      ],
      "metadata": {
        "colab": {
          "base_uri": "https://localhost:8080/"
        },
        "id": "fOLXXwA7MVu4",
        "outputId": "1193902b-ba87-4c75-923b-1b6efa5a9d76"
      },
      "execution_count": null,
      "outputs": [
        {
          "output_type": "execute_result",
          "data": {
            "text/plain": [
              "<generator object generator at 0x7f9861463cd0>"
            ]
          },
          "metadata": {},
          "execution_count": 32
        }
      ]
    },
    {
      "cell_type": "code",
      "source": [
        "iter_generator = iter(our_generator)\n"
      ],
      "metadata": {
        "id": "4alzD3AiMO2r"
      },
      "execution_count": null,
      "outputs": []
    },
    {
      "cell_type": "code",
      "source": [
        "next(iter_generator)"
      ],
      "metadata": {
        "colab": {
          "base_uri": "https://localhost:8080/",
          "height": 171
        },
        "id": "vzHaUvGVMbYl",
        "outputId": "d705f0d9-fb23-4fdb-d304-f7171364789f"
      },
      "execution_count": null,
      "outputs": [
        {
          "output_type": "error",
          "ename": "StopIteration",
          "evalue": "ignored",
          "traceback": [
            "\u001b[0;31m---------------------------------------------------------------------------\u001b[0m",
            "\u001b[0;31mStopIteration\u001b[0m                             Traceback (most recent call last)",
            "\u001b[0;32m<ipython-input-40-89295588f878>\u001b[0m in \u001b[0;36m<module>\u001b[0;34m()\u001b[0m\n\u001b[0;32m----> 1\u001b[0;31m \u001b[0mnext\u001b[0m\u001b[0;34m(\u001b[0m\u001b[0miter_generator\u001b[0m\u001b[0;34m)\u001b[0m\u001b[0;34m\u001b[0m\u001b[0;34m\u001b[0m\u001b[0m\n\u001b[0m",
            "\u001b[0;31mStopIteration\u001b[0m: "
          ]
        }
      ]
    },
    {
      "cell_type": "code",
      "source": [
        "agri_data = LoadAgriData(images, text)\n",
        "\n",
        "len(agri_data)"
      ],
      "metadata": {
        "colab": {
          "base_uri": "https://localhost:8080/"
        },
        "id": "vo0CjdMdHXsM",
        "outputId": "fa0cf904-a7c5-464d-bc5c-3e0cfee7887d"
      },
      "execution_count": null,
      "outputs": [
        {
          "output_type": "execute_result",
          "data": {
            "text/plain": [
              "1300"
            ]
          },
          "metadata": {},
          "execution_count": 25
        }
      ]
    },
    {
      "cell_type": "markdown",
      "source": [
        "# Delete Hard coded thing"
      ],
      "metadata": {
        "id": "K4f2Vh7uDmYA"
      }
    },
    {
      "cell_type": "code",
      "source": [
        "building = BluePrint()\n",
        "\n",
        "building[8]"
      ],
      "metadata": {
        "id": "b7XxOt-K2mOI"
      },
      "execution_count": null,
      "outputs": []
    },
    {
      "cell_type": "code",
      "source": [
        "entire_data = [1, 2, 3, 4, 5, 6, 7, 8]\n",
        "\n",
        "entire_data[0]"
      ],
      "metadata": {
        "id": "aAznW3DH2mQh",
        "colab": {
          "base_uri": "https://localhost:8080/"
        },
        "outputId": "82562d78-c5ae-4e59-9e2e-e6988c664084"
      },
      "execution_count": null,
      "outputs": [
        {
          "output_type": "execute_result",
          "data": {
            "text/plain": [
              "1"
            ]
          },
          "metadata": {},
          "execution_count": 63
        }
      ]
    },
    {
      "cell_type": "code",
      "source": [
        ""
      ],
      "metadata": {
        "id": "4gRWIU1G2mTA"
      },
      "execution_count": null,
      "outputs": []
    },
    {
      "cell_type": "code",
      "source": [
        "class BluePrint(): \n",
        "  def __init__(self, size, color, durability, location = \"Phillipines\"): \n",
        "    self.color = color\n",
        "    self.size = size\n",
        "    self.location = location\n",
        "  \n",
        "  def rebuild(self): \n",
        "    print(\"I am going to rebuild\")\n",
        "\n",
        "  def shutdown(self, time): \n",
        "    print(\"Shutdown for time: {}\".format(time))\n",
        "\n",
        "  def __getitem__(self, x): \n",
        "    print(x)\n"
      ],
      "metadata": {
        "id": "JcFkwu4D1q3f"
      },
      "execution_count": null,
      "outputs": []
    },
    {
      "cell_type": "code",
      "source": [
        "building = BluePrint(size = 10, color = \"RED\", durability = \"hard\")"
      ],
      "metadata": {
        "id": "tZWTFSkL12w8"
      },
      "execution_count": null,
      "outputs": []
    },
    {
      "cell_type": "code",
      "source": [
        "building[]"
      ],
      "metadata": {
        "colab": {
          "base_uri": "https://localhost:8080/"
        },
        "id": "eRiWc6XWFXSX",
        "outputId": "df37da9c-fcfc-4998-ed14-36a6a6c726cf"
      },
      "execution_count": null,
      "outputs": [
        {
          "output_type": "stream",
          "name": "stdout",
          "text": [
            "10\n"
          ]
        }
      ]
    },
    {
      "cell_type": "code",
      "source": [
        "building.location"
      ],
      "metadata": {
        "colab": {
          "base_uri": "https://localhost:8080/",
          "height": 35
        },
        "id": "oj-1Wrft1_WL",
        "outputId": "2d4248f1-88db-42ae-e67b-0a5664f8e05c"
      },
      "execution_count": null,
      "outputs": [
        {
          "output_type": "execute_result",
          "data": {
            "text/plain": [
              "'Phillipines'"
            ],
            "application/vnd.google.colaboratory.intrinsic+json": {
              "type": "string"
            }
          },
          "metadata": {},
          "execution_count": 45
        }
      ]
    }
  ]
}