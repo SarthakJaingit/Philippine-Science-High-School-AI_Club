{
  "nbformat": 4,
  "nbformat_minor": 0,
  "metadata": {
    "colab": {
      "provenance": [],
      "collapsed_sections": []
    },
    "kernelspec": {
      "name": "python3",
      "display_name": "Python 3"
    },
    "language_info": {
      "name": "python"
    }
  },
  "cells": [
    {
      "cell_type": "code",
      "source": [
        "import pandas as pd\n",
        "from sklearn.cluster import KMeans\n",
        "from sklearn.cluster import AgglomerativeClustering\n",
        "import numpy as np\n",
        "import matplotlib.pyplot as plt"
      ],
      "metadata": {
        "id": "P15ZX1ECGcei"
      },
      "execution_count": 1,
      "outputs": []
    },
    {
      "cell_type": "code",
      "source": [
        "df = pd.read_csv(\"/content/xclara.csv\")"
      ],
      "metadata": {
        "id": "qEq83jjWG4hf"
      },
      "execution_count": 2,
      "outputs": []
    },
    {
      "cell_type": "markdown",
      "source": [
        "# Elbow Method"
      ],
      "metadata": {
        "id": "nRNj0DL3M9a7"
      }
    },
    {
      "cell_type": "code",
      "source": [
        "def center_point(cluster):\n",
        "    x = cluster[:, 0].mean()\n",
        "    y = cluster[:, 1].mean()\n",
        "\n",
        "    return x, y\n",
        "\n",
        "def avg_distance(cluster):\n",
        "    center_x, center_y = center_point(cluster)\n",
        "    d_x = (cluster[:, 0] - center_x) ** 2 # Difference between tne x value in every point and the center x value\n",
        "    d_y = (cluster[:, 1] - center_y) ** 2 # Difference between the y value in every point and the center y value\n",
        "    # Distance Formula\n",
        "    avg_d = (d_x + d_y) ** 0.5\n",
        "    avg_d = avg_d.mean()\n",
        "    return avg_d"
      ],
      "metadata": {
        "id": "zdVW_DbUM_ed"
      },
      "execution_count": 3,
      "outputs": []
    },
    {
      "cell_type": "code",
      "source": [
        "def plot_elbow_curve(X): \n",
        "  # Make the cluster (by implementing K mean)\n",
        "  # Max x values is going to be 6\n",
        "  all_cluster_info = list()\n",
        "  for K in range(1, 7): \n",
        "    kmeans_model = KMeans(n_clusters=K, random_state=0).fit(X)\n",
        "    cluster_labels =kmeans_model.labels_\n",
        "    indices_clusters = list()\n",
        "    for cluster_id in np.unique(cluster_labels): \n",
        "      curr_cluster = list()\n",
        "      curr_cluster_indices = list()\n",
        "      for idx, v in enumerate(cluster_labels): \n",
        "        if v == cluster_id: \n",
        "          curr_cluster.append(idx)\n",
        "      indices_clusters.append(curr_cluster)\n",
        "    # Convert list of indices in labels into list of points from X\n",
        "    X_clusters = list()\n",
        "    for ind_cluster in indices_clusters: \n",
        "      curr_X_cluster = list()\n",
        "      for labels_index in ind_cluster:\n",
        "        point = X[labels_index] \n",
        "        curr_X_cluster.append(point)\n",
        "      X_clusters.append(curr_X_cluster)\n",
        "\n",
        "    all_cluster_info.append(X_clusters)\n",
        "  \n",
        "  graph_x_values = list() # number of K in each experiment\n",
        "  graph_y_values = list() # number of y in each experiment\n",
        "  for experiment in all_cluster_info: \n",
        "    graph_x_values.append(len(experiment))\n",
        "    experiment_avg_distance = 0\n",
        "    for K in experiment: \n",
        "      K = np.stack(K)\n",
        "      avg_distance_of_cluster = avg_distance(K)\n",
        "      experiment_avg_distance += avg_distance_of_cluster\n",
        "    experiment_avg_distance /= len(experiment)\n",
        "    graph_y_values.append(experiment_avg_distance)\n",
        "\n",
        "  plt.plot(graph_x_values, graph_y_values)\n",
        "  plt.title('Elbow Curve')\n",
        "  plt.xlabel('K')\n",
        "  plt.ylabel('Avg Distance')\n",
        "  plt.show()"
      ],
      "metadata": {
        "id": "4nDfsnExRP4z"
      },
      "execution_count": 52,
      "outputs": []
    },
    {
      "cell_type": "code",
      "source": [
        "plot_elbow_curve(X)"
      ],
      "metadata": {
        "colab": {
          "base_uri": "https://localhost:8080/",
          "height": 295
        },
        "id": "m157ApqfSRrS",
        "outputId": "1692a59a-1c33-44b2-c210-f51a6f1f8c13"
      },
      "execution_count": 53,
      "outputs": [
        {
          "output_type": "display_data",
          "data": {
            "text/plain": [
              "<Figure size 432x288 with 1 Axes>"
            ],
            "image/png": "[encoded data removed]"
          },
          "metadata": {
            "needs_background": "light"
          }
        }
      ]
    },
    {
      "cell_type": "markdown",
      "source": [
        "# Plot Data"
      ],
      "metadata": {
        "id": "hLXRa_ulI7aD"
      }
    },
    {
      "cell_type": "code",
      "source": [
        "v1 = df.V1.to_list()\n",
        "v2 = df.V2.to_list()\n",
        "plt.scatter(v1, v2)"
      ],
      "metadata": {
        "colab": {
          "base_uri": "https://localhost:8080/",
          "height": 283
        },
        "id": "KqzPVrD-I8S2",
        "outputId": "9278e4e8-374b-4dc8-8dad-c626dea381cc"
      },
      "execution_count": 4,
      "outputs": [
        {
          "output_type": "execute_result",
          "data": {
            "text/plain": [
              "<matplotlib.collections.PathCollection at 0x7f4606a333d0>"
            ]
          },
          "metadata": {},
          "execution_count": 4
        },
        {
          "output_type": "display_data",
          "data": {
            "text/plain": [
              "<Figure size 432x288 with 1 Axes>"
            ],
            "image/png": "[encoded data removed]"
          },
          "metadata": {
            "needs_background": "light"
          }
        }
      ]
    },
    {
      "cell_type": "markdown",
      "source": [
        "# Cluster Technique\n",
        "\n",
        "1. KMeans\n",
        "2. Agglomerative Clustering\n",
        "\n",
        "\n",
        "\n"
      ],
      "metadata": {
        "id": "PAJdyL5QHHAz"
      }
    },
    {
      "cell_type": "code",
      "source": [
        "df "
      ],
      "metadata": {
        "colab": {
          "base_uri": "https://localhost:8080/",
          "height": 424
        },
        "id": "uMsLynnrG_MS",
        "outputId": "2cb16561-ba33-4b78-c6de-5e68e0edec02"
      },
      "execution_count": 5,
      "outputs": [
        {
          "output_type": "execute_result",
          "data": {
            "text/plain": [
              "             V1         V2\n",
              "0      2.072345  -3.241693\n",
              "1     17.936710  15.784810\n",
              "2      1.083576   7.319176\n",
              "3     11.120670  14.406780\n",
              "4     23.711550   2.557729\n",
              "...         ...        ...\n",
              "2995  85.652800  -6.461061\n",
              "2996  82.770880  -2.373299\n",
              "2997  64.465320 -10.501360\n",
              "2998  90.722820 -12.255840\n",
              "2999  64.879760 -24.877310\n",
              "\n",
              "[3000 rows x 2 columns]"
            ],
            "text/html": [
              "\n",
              "  <div id=\"df-0a9df3e8-60bb-4a27-8eca-944f52b214cc\">\n",
              "    <div class=\"colab-df-container\">\n",
              "      <div>\n",
              "<style scoped>\n",
              "    .dataframe tbody tr th:only-of-type {\n",
              "        vertical-align: middle;\n",
              "    }\n",
              "\n",
              "    .dataframe tbody tr th {\n",
              "        vertical-align: top;\n",
              "    }\n",
              "\n",
              "    .dataframe thead th {\n",
              "        text-align: right;\n",
              "    }\n",
              "</style>\n",
              "<table border=\"1\" class=\"dataframe\">\n",
              "  <thead>\n",
              "    <tr style=\"text-align: right;\">\n",
              "      <th></th>\n",
              "      <th>V1</th>\n",
              "      <th>V2</th>\n",
              "    </tr>\n",
              "  </thead>\n",
              "  <tbody>\n",
              "    <tr>\n",
              "      <th>0</th>\n",
              "      <td>2.072345</td>\n",
              "      <td>-3.241693</td>\n",
              "    </tr>\n",
              "    <tr>\n",
              "      <th>1</th>\n",
              "      <td>17.936710</td>\n",
              "      <td>15.784810</td>\n",
              "    </tr>\n",
              "    <tr>\n",
              "      <th>2</th>\n",
              "      <td>1.083576</td>\n",
              "      <td>7.319176</td>\n",
              "    </tr>\n",
              "    <tr>\n",
              "      <th>3</th>\n",
              "      <td>11.120670</td>\n",
              "      <td>14.406780</td>\n",
              "    </tr>\n",
              "    <tr>\n",
              "      <th>4</th>\n",
              "      <td>23.711550</td>\n",
              "      <td>2.557729</td>\n",
              "    </tr>\n",
              "    <tr>\n",
              "      <th>...</th>\n",
              "      <td>...</td>\n",
              "      <td>...</td>\n",
              "    </tr>\n",
              "    <tr>\n",
              "      <th>2995</th>\n",
              "      <td>85.652800</td>\n",
              "      <td>-6.461061</td>\n",
              "    </tr>\n",
              "    <tr>\n",
              "      <th>2996</th>\n",
              "      <td>82.770880</td>\n",
              "      <td>-2.373299</td>\n",
              "    </tr>\n",
              "    <tr>\n",
              "      <th>2997</th>\n",
              "      <td>64.465320</td>\n",
              "      <td>-10.501360</td>\n",
              "    </tr>\n",
              "    <tr>\n",
              "      <th>2998</th>\n",
              "      <td>90.722820</td>\n",
              "      <td>-12.255840</td>\n",
              "    </tr>\n",
              "    <tr>\n",
              "      <th>2999</th>\n",
              "      <td>64.879760</td>\n",
              "      <td>-24.877310</td>\n",
              "    </tr>\n",
              "  </tbody>\n",
              "</table>\n",
              "<p>3000 rows × 2 columns</p>\n",
              "</div>\n",
              "      <button class=\"colab-df-convert\" onclick=\"convertToInteractive('df-0a9df3e8-60bb-4a27-8eca-944f52b214cc')\"\n",
              "              title=\"Convert this dataframe to an interactive table.\"\n",
              "              style=\"display:none;\">\n",
              "        \n",
              "  <svg xmlns=\"http://www.w3.org/2000/svg\" height=\"24px\"viewBox=\"0 0 24 24\"\n",
              "       width=\"24px\">\n",
              "    <path d=\"M0 0h24v24H0V0z\" fill=\"none\"/>\n",
              "    <path d=\"M18.56 5.44l.94 2.06.94-2.06 2.06-.94-2.06-.94-.94-2.06-.94 2.06-2.06.94zm-11 1L8.5 8.5l.94-2.06 2.06-.94-2.06-.94L8.5 2.5l-.94 2.06-2.06.94zm10 10l.94 2.06.94-2.06 2.06-.94-2.06-.94-.94-2.06-.94 2.06-2.06.94z\"/><path d=\"M17.41 7.96l-1.37-1.37c-.4-.4-.92-.59-1.43-.59-.52 0-1.04.2-1.43.59L10.3 9.45l-7.72 7.72c-.78.78-.78 2.05 0 2.83L4 21.41c.39.39.9.59 1.41.59.51 0 1.02-.2 1.41-.59l7.78-7.78 2.81-2.81c.8-.78.8-2.07 0-2.86zM5.41 20L4 18.59l7.72-7.72 1.47 1.35L5.41 20z\"/>\n",
              "  </svg>\n",
              "      </button>\n",
              "      \n",
              "  <style>\n",
              "    .colab-df-container {\n",
              "      display:flex;\n",
              "      flex-wrap:wrap;\n",
              "      gap: 12px;\n",
              "    }\n",
              "\n",
              "    .colab-df-convert {\n",
              "      background-color: #E8F0FE;\n",
              "      border: none;\n",
              "      border-radius: 50%;\n",
              "      cursor: pointer;\n",
              "      display: none;\n",
              "      fill: #1967D2;\n",
              "      height: 32px;\n",
              "      padding: 0 0 0 0;\n",
              "      width: 32px;\n",
              "    }\n",
              "\n",
              "    .colab-df-convert:hover {\n",
              "      background-color: #E2EBFA;\n",
              "      box-shadow: 0px 1px 2px rgba(60, 64, 67, 0.3), 0px 1px 3px 1px rgba(60, 64, 67, 0.15);\n",
              "      fill: #174EA6;\n",
              "    }\n",
              "\n",
              "    [theme=dark] .colab-df-convert {\n",
              "      background-color: #3B4455;\n",
              "      fill: #D2E3FC;\n",
              "    }\n",
              "\n",
              "    [theme=dark] .colab-df-convert:hover {\n",
              "      background-color: #434B5C;\n",
              "      box-shadow: 0px 1px 3px 1px rgba(0, 0, 0, 0.15);\n",
              "      filter: drop-shadow(0px 1px 2px rgba(0, 0, 0, 0.3));\n",
              "      fill: #FFFFFF;\n",
              "    }\n",
              "  </style>\n",
              "\n",
              "      <script>\n",
              "        const buttonEl =\n",
              "          document.querySelector('#df-0a9df3e8-60bb-4a27-8eca-944f52b214cc button.colab-df-convert');\n",
              "        buttonEl.style.display =\n",
              "          google.colab.kernel.accessAllowed ? 'block' : 'none';\n",
              "\n",
              "        async function convertToInteractive(key) {\n",
              "          const element = document.querySelector('#df-0a9df3e8-60bb-4a27-8eca-944f52b214cc');\n",
              "          const dataTable =\n",
              "            await google.colab.kernel.invokeFunction('convertToInteractive',\n",
              "                                                     [key], {});\n",
              "          if (!dataTable) return;\n",
              "\n",
              "          const docLinkHtml = 'Like what you see? Visit the ' +\n",
              "            '<a target=\"_blank\" href=https://colab.research.google.com/notebooks/data_table.ipynb>data table notebook</a>'\n",
              "            + ' to learn more about interactive tables.';\n",
              "          element.innerHTML = '';\n",
              "          dataTable['output_type'] = 'display_data';\n",
              "          await google.colab.output.renderOutput(dataTable, element);\n",
              "          const docLink = document.createElement('div');\n",
              "          docLink.innerHTML = docLinkHtml;\n",
              "          element.appendChild(docLink);\n",
              "        }\n",
              "      </script>\n",
              "    </div>\n",
              "  </div>\n",
              "  "
            ]
          },
          "metadata": {},
          "execution_count": 5
        }
      ]
    },
    {
      "cell_type": "code",
      "source": [],
      "metadata": {
        "colab": {
          "base_uri": "https://localhost:8080/"
        },
        "id": "BfSQhpoyLyEV",
        "outputId": "9265cc4e-e3e1-45f0-e20b-d29d5ae4fdf2"
      },
      "execution_count": null,
      "outputs": [
        {
          "output_type": "execute_result",
          "data": {
            "text/plain": [
              "array([2, 2, 2, 2, 2, 2, 2, 2], dtype=int32)"
            ]
          },
          "metadata": {},
          "execution_count": 25
        }
      ]
    },
    {
      "cell_type": "code",
      "source": [
        "X = df.to_numpy(dtype=None, copy=False)"
      ],
      "metadata": {
        "id": "VOkDH7rVIQU-"
      },
      "execution_count": 6,
      "outputs": []
    },
    {
      "cell_type": "code",
      "source": [
        "kmeans = KMeans(n_clusters=3, random_state=0).fit(X)\n",
        "agglomerative_clustering = AgglomerativeClustering(n_clusters = 3).fit(X)\n",
        "cluster_labels = kmeans.labels_\n",
        "agglomerative_cluster_labels = agglomerative_clustering.labels_"
      ],
      "metadata": {
        "id": "ch_0zrnRIbZb"
      },
      "execution_count": 7,
      "outputs": []
    },
    {
      "cell_type": "code",
      "source": [
        "cluster_labels"
      ],
      "metadata": {
        "colab": {
          "base_uri": "https://localhost:8080/"
        },
        "id": "mrZEPiKfLIM9",
        "outputId": "585431a0-3aeb-4e68-b525-b8f16ffdf6c7"
      },
      "execution_count": null,
      "outputs": [
        {
          "output_type": "execute_result",
          "data": {
            "text/plain": [
              "array([2, 2, 2, ..., 0, 0, 0], dtype=int32)"
            ]
          },
          "metadata": {},
          "execution_count": 22
        }
      ]
    },
    {
      "cell_type": "code",
      "source": [
        "print(cluster_labels.shape)\n",
        "print(agglomerative_cluster_labels.shape)\n",
        "print(X.shape)"
      ],
      "metadata": {
        "colab": {
          "base_uri": "https://localhost:8080/"
        },
        "id": "MsEuTN4-KixL",
        "outputId": "c31caf13-f62c-487b-9282-bac22da8ce2b"
      },
      "execution_count": null,
      "outputs": [
        {
          "output_type": "stream",
          "name": "stdout",
          "text": [
            "(3000,)\n",
            "(3000,)\n",
            "(3000, 2)\n"
          ]
        }
      ]
    },
    {
      "cell_type": "code",
      "source": [
        "np.unique(agglomerative_cluster_labels)"
      ],
      "metadata": {
        "colab": {
          "base_uri": "https://localhost:8080/"
        },
        "id": "ofmAUXxjJff7",
        "outputId": "c1ff67d8-a8fc-4bfb-b521-032e6ffbadf8"
      },
      "execution_count": null,
      "outputs": [
        {
          "output_type": "execute_result",
          "data": {
            "text/plain": [
              "array([0, 1, 2])"
            ]
          },
          "metadata": {},
          "execution_count": 47
        }
      ]
    },
    {
      "cell_type": "markdown",
      "source": [
        "# K Means performance"
      ],
      "metadata": {
        "id": "OUsOaVFHRjfE"
      }
    },
    {
      "cell_type": "code",
      "source": [
        "cluster_0 = X[cluster_labels == 0]\n",
        "cluster_1 = X[cluster_labels == 1]\n",
        "cluster_2 = X[cluster_labels == 2]"
      ],
      "metadata": {
        "id": "0BnFDu3SKIej"
      },
      "execution_count": null,
      "outputs": []
    },
    {
      "cell_type": "code",
      "source": [
        "cluster_0"
      ],
      "metadata": {
        "colab": {
          "base_uri": "https://localhost:8080/"
        },
        "id": "wYZUsHxsNVUh",
        "outputId": "2b61f451-0deb-4d67-9326-1846ba96d1b9"
      },
      "execution_count": null,
      "outputs": [
        {
          "output_type": "execute_result",
          "data": {
            "text/plain": [
              "array([[ 36.17882, -22.1776 ],\n",
              "       [ 50.97437,  19.26007],\n",
              "       [ 68.77616, -23.90883],\n",
              "       ...,\n",
              "       [ 64.46532, -10.50136],\n",
              "       [ 90.72282, -12.25584],\n",
              "       [ 64.87976, -24.87731]])"
            ]
          },
          "metadata": {},
          "execution_count": 30
        }
      ]
    },
    {
      "cell_type": "code",
      "source": [
        "fig = plt.figure()\n",
        "ax1 = fig.add_subplot(111)\n",
        "ax1.scatter(cluster_0[:, 0], cluster_0[:, 1], c = 'b')\n",
        "ax1.scatter(cluster_1[:, 0], cluster_1[:, 1], c = 'r')\n",
        "ax1.scatter(cluster_2[:, 0], cluster_2[:, 1], c = 'y')"
      ],
      "metadata": {
        "colab": {
          "base_uri": "https://localhost:8080/",
          "height": 283
        },
        "id": "CE7jGQdlNCQO",
        "outputId": "9245a6e5-5a2a-427b-d3b4-b7385ea7de93"
      },
      "execution_count": null,
      "outputs": [
        {
          "output_type": "execute_result",
          "data": {
            "text/plain": [
              "<matplotlib.collections.PathCollection at 0x7ff042bcbd90>"
            ]
          },
          "metadata": {},
          "execution_count": 35
        },
        {
          "output_type": "display_data",
          "data": {
            "text/plain": [
              "<Figure size 432x288 with 1 Axes>"
            ],
            "image/png": "[encoded data removed]"
          },
          "metadata": {
            "needs_background": "light"
          }
        }
      ]
    },
    {
      "cell_type": "markdown",
      "source": [
        "# Agglomerative Clustering Performance"
      ],
      "metadata": {
        "id": "xnCHqn7ARmm_"
      }
    },
    {
      "cell_type": "code",
      "source": [
        "cluster_0 = X[agglomerative_cluster_labels == 0]\n",
        "cluster_1 = X[agglomerative_cluster_labels == 1]\n",
        "cluster_2 = X[agglomerative_cluster_labels == 2]\n",
        "\n",
        "fig = plt.figure()\n",
        "ax1 = fig.add_subplot(111)\n",
        "ax1.scatter(cluster_0[:, 0], cluster_0[:, 1], c = 'b')\n",
        "ax1.scatter(cluster_1[:, 0], cluster_1[:, 1], c = 'r')\n",
        "ax1.scatter(cluster_2[:, 0], cluster_2[:, 1], c = 'y')"
      ],
      "metadata": {
        "colab": {
          "base_uri": "https://localhost:8080/",
          "height": 283
        },
        "id": "xsc_FifkRqUa",
        "outputId": "6ae9bcd1-e72a-413c-8965-8942ea2cfbbe"
      },
      "execution_count": null,
      "outputs": [
        {
          "output_type": "execute_result",
          "data": {
            "text/plain": [
              "<matplotlib.collections.PathCollection at 0x7ff03fc1ec10>"
            ]
          },
          "metadata": {},
          "execution_count": 48
        },
        {
          "output_type": "display_data",
          "data": {
            "text/plain": [
              "<Figure size 432x288 with 1 Axes>"
            ],
            "image/png": "[encoded data removed]"
          },
          "metadata": {
            "needs_background": "light"
          }
        }
      ]
    },
    {
      "cell_type": "code",
      "source": [
        "new_point = [100, 80]\n",
        "kmeans.predict([new_point])"
      ],
      "metadata": {
        "colab": {
          "base_uri": "https://localhost:8080/"
        },
        "id": "G-yr6qBEO-Ue",
        "outputId": "3bc17eb7-f630-4ad1-da7d-47796758109e"
      },
      "execution_count": null,
      "outputs": [
        {
          "output_type": "execute_result",
          "data": {
            "text/plain": [
              "array([1], dtype=int32)"
            ]
          },
          "metadata": {},
          "execution_count": 37
        }
      ]
    }
  ]
}