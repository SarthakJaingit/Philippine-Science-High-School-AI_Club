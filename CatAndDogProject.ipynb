{
  "nbformat": 4,
  "nbformat_minor": 0,
  "metadata": {
    "colab": {
      "name": "CatAndDogProject.ipynb",
      "provenance": []
    },
    "kernelspec": {
      "name": "python3",
      "display_name": "Python 3"
    },
    "language_info": {
      "name": "python"
    }
  },
  "cells": [
    {
      "cell_type": "code",
      "execution_count": 6,
      "metadata": {
        "id": "Cg9HiFodfPXQ"
      },
      "outputs": [],
      "source": [
        "import zipfile\n",
        "from glob import glob"
      ]
    },
    {
      "cell_type": "markdown",
      "source": [
        "# Give Our Google Collab access to the drive"
      ],
      "metadata": {
        "id": "dPZsXomJfrRX"
      }
    },
    {
      "cell_type": "code",
      "source": [
        "from google.colab import drive\n",
        "drive.mount('/content/drive')"
      ],
      "metadata": {
        "colab": {
          "base_uri": "https://localhost:8080/"
        },
        "id": "pAYNfOY3fuHr",
        "outputId": "5f427fd2-f550-4a94-e75e-86fc8fa12fb7"
      },
      "execution_count": 1,
      "outputs": [
        {
          "output_type": "stream",
          "name": "stdout",
          "text": [
            "Mounted at /content/drive\n"
          ]
        }
      ]
    },
    {
      "cell_type": "code",
      "source": [
        "with zipfile.ZipFile(\"/content/drive/MyDrive/PSHS_Projects/CatsAndDogsProjectPSHS/CatData.zip\", 'r') as zip_ref:\n",
        "    zip_ref.extractall()\n",
        "with zipfile.ZipFile(\"/content/drive/MyDrive/PSHS_Projects/CatsAndDogsProjectPSHS/DogData.zip\", 'r') as zip_ref:\n",
        "    zip_ref.extractall()"
      ],
      "metadata": {
        "id": "mh6aRROZgXEi"
      },
      "execution_count": 4,
      "outputs": []
    },
    {
      "cell_type": "markdown",
      "source": [
        "# A list of all our images in our entire dataset for each class"
      ],
      "metadata": {
        "id": "O5mWIN2kh8d1"
      }
    },
    {
      "cell_type": "code",
      "source": [
        "cat_data = glob(\"CatData/*.jpeg\")\n",
        "dog_data = glob(\"DogData/*.jpeg\")"
      ],
      "metadata": {
        "id": "nvffqRgYiBkn"
      },
      "execution_count": 12,
      "outputs": []
    },
    {
      "cell_type": "code",
      "source": [
        "cat_data, dog_data"
      ],
      "metadata": {
        "colab": {
          "base_uri": "https://localhost:8080/"
        },
        "id": "JzVQEC1CigtJ",
        "outputId": "cea8ca94-3f26-46ab-ad5b-114ddce9bf70"
      },
      "execution_count": 13,
      "outputs": [
        {
          "output_type": "execute_result",
          "data": {
            "text/plain": [
              "(['CatData/cat5.jpeg',\n",
              "  'CatData/cat4.jpeg',\n",
              "  'CatData/cat2.jpeg',\n",
              "  'CatData/cat1.jpeg',\n",
              "  'CatData/cat3.jpeg'],\n",
              " ['DogData/dog2.jpeg',\n",
              "  'DogData/dog1.jpeg',\n",
              "  'DogData/dog5.jpeg',\n",
              "  'DogData/dog3.jpeg',\n",
              "  'DogData/dog4.jpeg'])"
            ]
          },
          "metadata": {},
          "execution_count": 13
        }
      ]
    }
  ]
}