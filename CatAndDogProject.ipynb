{
  "nbformat": 4,
  "nbformat_minor": 0,
  "metadata": {
    "colab": {
      "name": "CatAndDogProject.ipynb",
      "provenance": [],
      "collapsed_sections": []
    },
    "kernelspec": {
      "name": "python3",
      "display_name": "Python 3"
    },
    "language_info": {
      "name": "python"
    }
  },
  "cells": [
    {
      "cell_type": "code",
      "execution_count": 1,
      "metadata": {
        "id": "Cg9HiFodfPXQ"
      },
      "outputs": [],
      "source": [
        "import zipfile\n",
        "from glob import glob\n",
        "import cv2\n",
        "import matplotlib.pyplot as plt\n",
        "import xml.etree.ElementTree as ET"
      ]
    },
    {
      "cell_type": "markdown",
      "source": [
        "# Give Our Google Collab access to the drive"
      ],
      "metadata": {
        "id": "dPZsXomJfrRX"
      }
    },
    {
      "cell_type": "code",
      "source": [
        "from google.colab import drive\n",
        "drive.mount('/content/drive')"
      ],
      "metadata": {
        "colab": {
          "base_uri": "https://localhost:8080/"
        },
        "id": "pAYNfOY3fuHr",
        "outputId": "db4f1f4c-1d9a-40ca-9e28-b1ef200d8099"
      },
      "execution_count": 2,
      "outputs": [
        {
          "output_type": "stream",
          "name": "stdout",
          "text": [
            "Mounted at /content/drive\n"
          ]
        }
      ]
    },
    {
      "cell_type": "code",
      "source": [
        "with zipfile.ZipFile(\"/content/drive/MyDrive/PSHS_Projects/CatsAndDogsProjectPSHS/CatData.zip\", 'r') as zip_ref:\n",
        "    zip_ref.extractall()\n",
        "with zipfile.ZipFile(\"/content/drive/MyDrive/PSHS_Projects/CatsAndDogsProjectPSHS/DogData.zip\", 'r') as zip_ref:\n",
        "    zip_ref.extractall()"
      ],
      "metadata": {
        "id": "mh6aRROZgXEi"
      },
      "execution_count": null,
      "outputs": []
    },
    {
      "cell_type": "markdown",
      "source": [
        "# A list of all our images in our entire dataset for each class"
      ],
      "metadata": {
        "id": "O5mWIN2kh8d1"
      }
    },
    {
      "cell_type": "code",
      "source": [
        "cat_images = glob(\"CatData/*.jpeg\")\n",
        "dog_images = glob(\"DogData/*.jpeg\")"
      ],
      "metadata": {
        "id": "nvffqRgYiBkn"
      },
      "execution_count": null,
      "outputs": []
    },
    {
      "cell_type": "code",
      "source": [
        "cat_xml = glob(\"CatData/*.xml\")\n",
        "dog_xml = glob(\"DogData/*.xml\") "
      ],
      "metadata": {
        "id": "jBAefQdp4igz"
      },
      "execution_count": null,
      "outputs": []
    },
    {
      "cell_type": "code",
      "source": [
        "print(sorted(cat_xml))\n",
        "\n",
        "\n",
        "print(\"\\n\")\n",
        "\n",
        "\n",
        "print(sorted(cat_images))"
      ],
      "metadata": {
        "colab": {
          "base_uri": "https://localhost:8080/"
        },
        "id": "Or2BSj7t4xoP",
        "outputId": "fc350a9f-5b84-4335-def6-9b37c8ae9f96"
      },
      "execution_count": null,
      "outputs": [
        {
          "output_type": "stream",
          "name": "stdout",
          "text": [
            "['CatData/cat1.xml', 'CatData/cat2.xml', 'CatData/cat3.xml', 'CatData/cat4.xml', 'CatData/cat5.xml']\n",
            "\n",
            "\n",
            "['CatData/cat1.jpeg', 'CatData/cat2.jpeg', 'CatData/cat3.jpeg', 'CatData/cat4.jpeg', 'CatData/cat5.jpeg']\n"
          ]
        }
      ]
    },
    {
      "cell_type": "code",
      "source": [
        ""
      ],
      "metadata": {
        "id": "7zSTQIIV0sgx"
      },
      "execution_count": null,
      "outputs": []
    },
    {
      "cell_type": "code",
      "source": [
        ""
      ],
      "metadata": {
        "id": "YOGhCUl40sjL"
      },
      "execution_count": null,
      "outputs": []
    },
    {
      "cell_type": "code",
      "source": [
        ""
      ],
      "metadata": {
        "id": "h10XS0p20sl4"
      },
      "execution_count": null,
      "outputs": []
    },
    {
      "cell_type": "markdown",
      "source": [
        "['CatData/cat1.xml', 'CatData/cat3.xml', 'CatData/cat2.xml', 'CatData/cat4.xml', 'CatData/cat5.xml']\n",
        "\n",
        "\n",
        "['CatData/cat1.jpeg', 'CatData/cat2.jpeg', 'CatData/cat3.jpeg', 'CatData/cat4.jpeg', 'CatData/cat5.jpeg']\n",
        "\n",
        "\n",
        "a = [(cat1.xml, cat1.jpeg), (cat2.xml, cat2.jpeg), (cat5.jpeg, cat5.xml)]"
      ],
      "metadata": {
        "id": "Ja030h_bScyS"
      }
    },
    {
      "cell_type": "code",
      "source": [
        "linked_data = list(zip(sorted(cat_xml), sorted(cat_images)))"
      ],
      "metadata": {
        "id": "tIx-yh28ULkx"
      },
      "execution_count": null,
      "outputs": []
    },
    {
      "cell_type": "code",
      "source": [
        "linked_data"
      ],
      "metadata": {
        "colab": {
          "base_uri": "https://localhost:8080/"
        },
        "id": "OINAaJbcVjpw",
        "outputId": "f64a6a84-f493-4435-9a0d-4aaeab4eeeda"
      },
      "execution_count": null,
      "outputs": [
        {
          "output_type": "execute_result",
          "data": {
            "text/plain": [
              "[('CatData/cat1.xml', 'CatData/cat1.jpeg'),\n",
              " ('CatData/cat2.xml', 'CatData/cat2.jpeg'),\n",
              " ('CatData/cat3.xml', 'CatData/cat3.jpeg'),\n",
              " ('CatData/cat4.xml', 'CatData/cat4.jpeg'),\n",
              " ('CatData/cat5.xml', 'CatData/cat5.jpeg')]"
            ]
          },
          "metadata": {},
          "execution_count": 24
        }
      ]
    },
    {
      "cell_type": "code",
      "source": [
        "('CatData/cat1.xml', 'CatData/cat1.jpeg')"
      ],
      "metadata": {
        "id": "CFcDoSJT2HXe"
      },
      "execution_count": null,
      "outputs": []
    },
    {
      "cell_type": "code",
      "source": [
        "def draw_bbox_on_image(linked_single_data):\n",
        "  image_file_path = linked_single_data[1]\n",
        "  xml_file_path = linked_single_data[0]\n",
        "\n",
        "  image = cv2.imread(image_file_path)\n",
        "  #image = image[:,:,::-1] (PYTHON SPECIFIC WAY TO SOLVE THE SAME BGR->RGB PROBLEM)\n",
        "  image = cv2.cvtColor(image, cv2.COLOR_BGR2RGB)\n",
        "\n",
        "  tree = ET.parse(xml_file_path)\n",
        "  bounding_box_nodes = tree.findall('object/bndbox')\n",
        "  label_nodes = tree.findall('object')\n",
        "\n",
        "  bboxes = []\n",
        "  labels = []\n",
        "  classes = [\"dog\", \"cat\"]\n",
        "\n",
        "  for node in bounding_box_nodes: \n",
        "    xmin = node.find(\"xmin\").text\n",
        "    xmax = node.find(\"xmax\").text\n",
        "    ymin = node.find(\"ymin\").text\n",
        "    ymax = node.find(\"ymax\").text\n",
        "  \n",
        "  for node in label_nodes: \n",
        "    current_label = node.find('name').text\n",
        "    print(current_label)\n",
        "    \n",
        "    bboxes.append([xmin, ymin, xmax, ymax]) # Pascal VOC\n",
        "  \n",
        "  print(bboxes) # [[xmin, ymin, xmax, ymax]]\n",
        "  \n",
        "  plt.imshow(image)\n",
        "\n",
        "\n",
        "  \n",
        "\n",
        "  \n",
        "  "
      ],
      "metadata": {
        "id": "coT61P6kU8S9"
      },
      "execution_count": null,
      "outputs": []
    },
    {
      "cell_type": "code",
      "source": [
        "draw_bbox_on_image(linked_data[3])"
      ],
      "metadata": {
        "colab": {
          "base_uri": "https://localhost:8080/",
          "height": 303
        },
        "id": "wO4CzaMu2ppE",
        "outputId": "e4ada698-10b7-4c5a-da64-5253fd0fcdc6"
      },
      "execution_count": null,
      "outputs": [
        {
          "output_type": "stream",
          "name": "stdout",
          "text": [
            "cat\n",
            "[['34', '37', '82', '63']]\n"
          ]
        },
        {
          "output_type": "display_data",
          "data": {
            "image/png": "[encoded data removed]",
            "text/plain": [
              "<Figure size 432x288 with 1 Axes>"
            ]
          },
          "metadata": {
            "needs_background": "light"
          }
        }
      ]
    },
    {
      "cell_type": "code",
      "source": [
        ""
      ],
      "metadata": {
        "id": "vtN4URk3_T6D"
      },
      "execution_count": null,
      "outputs": []
    },
    {
      "cell_type": "code",
      "source": [
        "a = \"dog\"\n",
        "classes = [\"cat\", \"dog\", \"turtle\"]"
      ],
      "metadata": {
        "id": "YgcpHlmP_UAa"
      },
      "execution_count": null,
      "outputs": []
    },
    {
      "cell_type": "code",
      "source": [
        "classes.index(a)"
      ],
      "metadata": {
        "colab": {
          "base_uri": "https://localhost:8080/"
        },
        "id": "TBffkucM_Z-J",
        "outputId": "64f6a18f-7ca4-47ec-a9c0-538f644aba7b"
      },
      "execution_count": null,
      "outputs": [
        {
          "output_type": "execute_result",
          "data": {
            "text/plain": [
              "1"
            ]
          },
          "metadata": {},
          "execution_count": 76
        }
      ]
    }
  ]
}